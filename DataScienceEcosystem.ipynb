{
 "cells": [
  {
   "cell_type": "markdown",
   "id": "40da52ff-5210-488c-bc65-cf4c6885001b",
   "metadata": {},
   "source": [
    "Data Science Tools and Ecosystem"
   ]
  },
  {
   "cell_type": "markdown",
   "id": "4901bca4-c3e9-4ef1-8179-a95ac778ba24",
   "metadata": {},
   "source": [
    "In this notebook, Data Science Tools and Ecosystem are summarized."
   ]
  },
  {
   "cell_type": "markdown",
   "id": "3d64ec60-af7b-4b9f-a0a2-5fa9625df55c",
   "metadata": {},
   "source": [
    "Some of the popular languages that Data Scientists use are:\n",
    "1. Python\n",
    "2. R\n",
    "3. SQL\n",
    "4. C++\n",
    "5. Java etc...;"
   ]
  },
  {
   "cell_type": "markdown",
   "id": "3654a07c-2f2c-4529-b3d0-30b6d84a3df2",
   "metadata": {},
   "source": [
    "__Objectives__\n",
    "\n",
    "* List popular languages for Data Science\n",
    "* list popular libraries for Data Science\n",
    "* List of well known Data Science Tools\n",
    "* How to provide Comments in the cell"
   ]
  },
  {
   "cell_type": "markdown",
   "id": "a74f15ff-08ee-4888-9314-5350c32e088f",
   "metadata": {},
   "source": [
    "Some of the popular languages that Data Scientists use are:\n",
    "\n",
    "1. TensorFlow\n",
    "2. NumPy\n",
    "3. SciPy\n",
    "4. Pandas\n",
    "5. Matplotlib\n",
    "6. Keras\n",
    "7. SciKit-Learn etc...;"
   ]
  },
  {
   "cell_type": "markdown",
   "id": "d6b05a99-1f58-4189-914a-85902cad6c25",
   "metadata": {},
   "source": [
    "| Data Science Tools |\n",
    "|--------------------|\n",
    "| Jupyter Notebooks  |\n",
    "| RStudio            |\n",
    "| Visual Studio Code |\n"
   ]
  },
  {
   "cell_type": "markdown",
   "id": "dbd8d7e5-1b42-4c45-a059-4e7509ce0cf4",
   "metadata": {},
   "source": [
    "Below are a few examples of evaluating arithmetic expressions in Python"
   ]
  },
  {
   "cell_type": "code",
   "execution_count": 1,
   "id": "1b8c7331-0294-4fb8-8713-3a3320cd8b31",
   "metadata": {
    "tags": []
   },
   "outputs": [
    {
     "data": {
      "text/plain": [
       "17"
      ]
     },
     "execution_count": 1,
     "metadata": {},
     "output_type": "execute_result"
    }
   ],
   "source": [
    "#This a simple arithmetic expression to mutiply then add integers\n",
    "(3*4)+5"
   ]
  },
  {
   "cell_type": "code",
   "execution_count": 2,
   "id": "7b63a67a-d3bd-4c72-a74a-83b3b82637dd",
   "metadata": {
    "tags": []
   },
   "outputs": [
    {
     "data": {
      "text/plain": [
       "3.3333333333333335"
      ]
     },
     "execution_count": 2,
     "metadata": {},
     "output_type": "execute_result"
    }
   ],
   "source": [
    "#This will convert 200 minutes to hours by diving by 60\n",
    "200/60"
   ]
  },
  {
   "cell_type": "markdown",
   "id": "878b1b19-53ed-4b17-8e5a-ef07082e70c6",
   "metadata": {},
   "source": [
    "## Author\n",
    "Sumaira Almas"
   ]
  }
 ],
 "metadata": {
  "kernelspec": {
   "display_name": "Python",
   "language": "python",
   "name": "conda-env-python-py"
  },
  "language_info": {
   "codemirror_mode": {
    "name": "ipython",
    "version": 3
   },
   "file_extension": ".py",
   "mimetype": "text/x-python",
   "name": "python",
   "nbconvert_exporter": "python",
   "pygments_lexer": "ipython3",
   "version": "3.7.12"
  }
 },
 "nbformat": 4,
 "nbformat_minor": 5
}
